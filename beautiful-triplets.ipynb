{
  "nbformat": 4,
  "nbformat_minor": 0,
  "metadata": {
    "colab": {
      "name": "Untitled10.ipynb",
      "provenance": [],
      "authorship_tag": "ABX9TyOz4/r5v/8OmygFfoSiQAow",
      "include_colab_link": true
    },
    "kernelspec": {
      "name": "python3",
      "display_name": "Python 3"
    }
  },
  "cells": [
    {
      "cell_type": "markdown",
      "metadata": {
        "id": "view-in-github",
        "colab_type": "text"
      },
      "source": [
        "<a href=\"https://colab.research.google.com/github/Weikang01/HackerRankChallenges/blob/master/beautiful-triplets.ipynb\" target=\"_parent\"><img src=\"https://colab.research.google.com/assets/colab-badge.svg\" alt=\"Open In Colab\"/></a>"
      ]
    },
    {
      "cell_type": "markdown",
      "metadata": {
        "id": "OUZlx4JpU1fS",
        "colab_type": "text"
      },
      "source": [
        "https://www.hackerrank.com/challenges/beautiful-triplets/problem"
      ]
    },
    {
      "cell_type": "code",
      "metadata": {
        "id": "aXYTOs2wUuvf",
        "colab_type": "code",
        "colab": {}
      },
      "source": [
        "#!/bin/python3\n",
        "\n",
        "import math\n",
        "import os\n",
        "import random\n",
        "import re\n",
        "import sys"
      ],
      "execution_count": 5,
      "outputs": []
    },
    {
      "cell_type": "code",
      "metadata": {
        "id": "HSxVMn0aUp0j",
        "colab_type": "code",
        "colab": {}
      },
      "source": [
        "def beautifulTriplets(d, arr):\n",
        "  len_arr = len(arr)\n",
        "  result = 0\n",
        "  for i in range(len_arr - 2):\n",
        "    for j in range(i + 1, len_arr - 1):\n",
        "      if arr[j] - arr[i] > d:\n",
        "        break\n",
        "      if arr[j] - arr[i] == d:\n",
        "        for k in range(j + 1, len_arr):\n",
        "          if arr[k] - arr[j] > d:\n",
        "            break\n",
        "          if arr[k] - arr[j] == d:\n",
        "            result += 1\n",
        "            break\n",
        "  return result"
      ],
      "execution_count": 12,
      "outputs": []
    },
    {
      "cell_type": "code",
      "metadata": {
        "id": "pEeQszMsVCw7",
        "colab_type": "code",
        "colab": {
          "base_uri": "https://localhost:8080/",
          "height": 50
        },
        "outputId": "e917592a-98d8-433f-acc7-b0dce399449d"
      },
      "source": [
        "if __name__ == '__main__':\n",
        "  d = 1\n",
        "  arr = [2, 2, 3, 4, 5]\n",
        "  \n",
        "  result = beautifulTriplets(d, arr)\n",
        "\n",
        "  print(str(result) + '\\n')"
      ],
      "execution_count": 14,
      "outputs": [
        {
          "output_type": "stream",
          "text": [
            "3\n",
            "\n"
          ],
          "name": "stdout"
        }
      ]
    }
  ]
}