{
  "nbformat": 4,
  "nbformat_minor": 0,
  "metadata": {
    "colab": {
      "name": "Untitled10.ipynb",
      "provenance": [],
      "authorship_tag": "ABX9TyPgmbXE3cdkcMo35Et8BzYb",
      "include_colab_link": true
    },
    "kernelspec": {
      "name": "python3",
      "display_name": "Python 3"
    }
  },
  "cells": [
    {
      "cell_type": "markdown",
      "metadata": {
        "id": "view-in-github",
        "colab_type": "text"
      },
      "source": [
        "<a href=\"https://colab.research.google.com/github/Weikang01/HackerRankChallenges/blob/master/append-and-delete.ipynb\" target=\"_parent\"><img src=\"https://colab.research.google.com/assets/colab-badge.svg\" alt=\"Open In Colab\"/></a>"
      ]
    },
    {
      "cell_type": "markdown",
      "metadata": {
        "id": "OUZlx4JpU1fS",
        "colab_type": "text"
      },
      "source": [
        "https://www.hackerrank.com/challenges/append-and-delete/problem"
      ]
    },
    {
      "cell_type": "code",
      "metadata": {
        "id": "aXYTOs2wUuvf",
        "colab_type": "code",
        "colab": {}
      },
      "source": [
        "#!/bin/python3\n",
        "\n",
        "import math\n",
        "import os\n",
        "import random\n",
        "import re\n",
        "import sys"
      ],
      "execution_count": 13,
      "outputs": []
    },
    {
      "cell_type": "code",
      "metadata": {
        "id": "HSxVMn0aUp0j",
        "colab_type": "code",
        "colab": {}
      },
      "source": [
        "def appendAndDelete(s, t, k):\n",
        "    len_s = len(s)\n",
        "    len_t = len(t)\n",
        "    equals = 0\n",
        "    for i in range(len_s if len_s < len_t else len_t):\n",
        "        if s[i] == t[i]:\n",
        "            equals += 1\n",
        "        else:\n",
        "            break\n",
        "\n",
        "    min_step = len_s + len_t - 2 * equals\n",
        "    if min_step == k:\n",
        "        return 'Yes'\n",
        "    elif min_step < k:\n",
        "        if (k - min_step) % 2:\n",
        "            if k >= len_s + len_t:\n",
        "                return 'Yes'\n",
        "            else:\n",
        "                return 'No'\n",
        "        else:\n",
        "            return 'Yes'\n",
        "    else:\n",
        "        return 'No'"
      ],
      "execution_count": 26,
      "outputs": []
    },
    {
      "cell_type": "code",
      "metadata": {
        "id": "pEeQszMsVCw7",
        "colab_type": "code",
        "colab": {
          "base_uri": "https://localhost:8080/",
          "height": 50
        },
        "outputId": "19652fa5-7f91-48c3-c5bf-37e4a4b86889"
      },
      "source": [
        "if __name__ == '__main__':\n",
        "    s = 'abcdef'\n",
        "    t = 'fedcba'\n",
        "    k = 15\n",
        "\n",
        "    result = appendAndDelete(s, t, k)\n",
        "\n",
        "    print(result + '\\n')"
      ],
      "execution_count": 27,
      "outputs": [
        {
          "output_type": "stream",
          "text": [
            "Yes\n",
            "\n"
          ],
          "name": "stdout"
        }
      ]
    }
  ]
}