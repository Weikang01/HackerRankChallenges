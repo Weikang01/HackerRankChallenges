{
  "nbformat": 4,
  "nbformat_minor": 0,
  "metadata": {
    "colab": {
      "name": "Untitled10.ipynb",
      "provenance": [],
      "authorship_tag": "ABX9TyMkl86c7Dj1ikuwxDSF6Djt",
      "include_colab_link": true
    },
    "kernelspec": {
      "name": "python3",
      "display_name": "Python 3"
    }
  },
  "cells": [
    {
      "cell_type": "markdown",
      "metadata": {
        "id": "view-in-github",
        "colab_type": "text"
      },
      "source": [
        "<a href=\"https://colab.research.google.com/github/Weikang01/HackerRankChallenges/blob/master/lisa-workbook.ipynb\" target=\"_parent\"><img src=\"https://colab.research.google.com/assets/colab-badge.svg\" alt=\"Open In Colab\"/></a>"
      ]
    },
    {
      "cell_type": "markdown",
      "metadata": {
        "id": "OUZlx4JpU1fS",
        "colab_type": "text"
      },
      "source": [
        "https://www.hackerrank.com/challenges/lisa-workbook/problem"
      ]
    },
    {
      "cell_type": "code",
      "metadata": {
        "id": "aXYTOs2wUuvf",
        "colab_type": "code",
        "colab": {}
      },
      "source": [
        "#!/bin/python3\n",
        "\n",
        "import math\n",
        "import os\n",
        "import random\n",
        "import re\n",
        "import sys"
      ],
      "execution_count": 1,
      "outputs": []
    },
    {
      "cell_type": "code",
      "metadata": {
        "id": "HSxVMn0aUp0j",
        "colab_type": "code",
        "colab": {}
      },
      "source": [
        "def workbook(n, k, arr):\n",
        "    result = 0\n",
        "    cur_page =0\n",
        "    for chap_i in range(n):\n",
        "        page = math.ceil(arr[chap_i] / k)\n",
        "        for i in range(page):\n",
        "            cur_page += 1\n",
        "            if i != page - 1:\n",
        "                first_index = i * k + 1\n",
        "                last_index = i * k + k\n",
        "            else:\n",
        "                first_index = i * k + 1\n",
        "                diff = arr[chap_i] % k if arr[chap_i] % k else k\n",
        "\n",
        "                last_index = i * k + diff\n",
        "            if first_index <= cur_page <= last_index:\n",
        "                result += 1\n",
        "\n",
        "    return result"
      ],
      "execution_count": 6,
      "outputs": []
    },
    {
      "cell_type": "code",
      "metadata": {
        "id": "pEeQszMsVCw7",
        "colab_type": "code",
        "colab": {
          "base_uri": "https://localhost:8080/",
          "height": 50
        },
        "outputId": "5d248d05-d5fb-4944-c314-0030cef4cb83"
      },
      "source": [
        "if __name__ == '__main__':\n",
        "    n = 5\n",
        "    k = 3\n",
        "    arr = [4, 2, 6, 1, 10]\n",
        "\n",
        "    result = workbook(n, k, arr)\n",
        "\n",
        "    print(str(result) + '\\n')"
      ],
      "execution_count": 7,
      "outputs": [
        {
          "output_type": "stream",
          "text": [
            "4\n",
            "\n"
          ],
          "name": "stdout"
        }
      ]
    }
  ]
}