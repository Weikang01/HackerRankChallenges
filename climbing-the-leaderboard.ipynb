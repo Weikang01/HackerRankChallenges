{
  "nbformat": 4,
  "nbformat_minor": 0,
  "metadata": {
    "colab": {
      "name": "Untitled10.ipynb",
      "provenance": [],
      "authorship_tag": "ABX9TyPVlvLXhQaHBT47ilkwAoH6",
      "include_colab_link": true
    },
    "kernelspec": {
      "name": "python3",
      "display_name": "Python 3"
    }
  },
  "cells": [
    {
      "cell_type": "markdown",
      "metadata": {
        "id": "view-in-github",
        "colab_type": "text"
      },
      "source": [
        "<a href=\"https://colab.research.google.com/github/Weikang01/HackerRankChallenges/blob/master/climbing-the-leaderboard.ipynb\" target=\"_parent\"><img src=\"https://colab.research.google.com/assets/colab-badge.svg\" alt=\"Open In Colab\"/></a>"
      ]
    },
    {
      "cell_type": "markdown",
      "metadata": {
        "id": "OUZlx4JpU1fS",
        "colab_type": "text"
      },
      "source": [
        "Challenge: https://www.hackerrank.com/challenges/climbing-the-leaderboard/problem"
      ]
    },
    {
      "cell_type": "code",
      "metadata": {
        "id": "aXYTOs2wUuvf",
        "colab_type": "code",
        "colab": {}
      },
      "source": [
        "#!/bin/python3\n",
        "\n",
        "import math\n",
        "import os\n",
        "import random\n",
        "import re\n",
        "import sys"
      ],
      "execution_count": 1,
      "outputs": []
    },
    {
      "cell_type": "code",
      "metadata": {
        "id": "HSxVMn0aUp0j",
        "colab_type": "code",
        "colab": {}
      },
      "source": [
        "def climbingLeaderboard(scores, alice):\n",
        "    for i in range(len(scores) - 2, -1, -1):\n",
        "        if scores[i] == scores[i + 1]:\n",
        "            scores.pop(i + 1)\n",
        "\n",
        "    result = [0] * len(alice)\n",
        "\n",
        "    for i in range(len(alice)):\n",
        "        scores_begin = 0\n",
        "        scores_end = len(scores)\n",
        "\n",
        "        while True:\n",
        "            ind_value = (scores_end + scores_begin) // 2\n",
        "            if scores_end - scores_begin <= 1:\n",
        "                if alice[i] >= scores[ind_value]:\n",
        "                    result[i] = ind_value + 1\n",
        "                    break\n",
        "                else:\n",
        "                    result[i] = ind_value + 2\n",
        "                    break\n",
        "\n",
        "            if alice[i] == scores[ind_value]:\n",
        "                result[i] = ind_value + 1\n",
        "                break\n",
        "            if alice[i] > scores[ind_value]:\n",
        "                scores_end = ind_value\n",
        "            else:\n",
        "                scores_begin = ind_value\n",
        "\n",
        "    return result"
      ],
      "execution_count": 2,
      "outputs": []
    },
    {
      "cell_type": "code",
      "metadata": {
        "id": "pEeQszMsVCw7",
        "colab_type": "code",
        "colab": {
          "base_uri": "https://localhost:8080/",
          "height": 84
        },
        "outputId": "da58bf79-1cce-4f43-9f77-ccb9c6b45526"
      },
      "source": [
        "if __name__ == '__main__':\n",
        "    scores = [100,100,50,40,40,20,10]\n",
        "    alice = [5,25,50,120]\n",
        "\n",
        "    result = climbingLeaderboard(scores, alice)\n",
        "    print('\\n'.join(map(str, result)))"
      ],
      "execution_count": 3,
      "outputs": [
        {
          "output_type": "stream",
          "text": [
            "6\n",
            "4\n",
            "2\n",
            "1\n"
          ],
          "name": "stdout"
        }
      ]
    }
  ]
}