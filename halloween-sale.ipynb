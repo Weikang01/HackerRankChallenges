{
  "nbformat": 4,
  "nbformat_minor": 0,
  "metadata": {
    "colab": {
      "name": "Untitled10.ipynb",
      "provenance": [],
      "authorship_tag": "ABX9TyNlRmnDs+hpYijYOYk95gS0",
      "include_colab_link": true
    },
    "kernelspec": {
      "name": "python3",
      "display_name": "Python 3"
    }
  },
  "cells": [
    {
      "cell_type": "markdown",
      "metadata": {
        "id": "view-in-github",
        "colab_type": "text"
      },
      "source": [
        "<a href=\"https://colab.research.google.com/github/Weikang01/HackerRankChallenges/blob/master/halloween-sale.ipynb\" target=\"_parent\"><img src=\"https://colab.research.google.com/assets/colab-badge.svg\" alt=\"Open In Colab\"/></a>"
      ]
    },
    {
      "cell_type": "markdown",
      "metadata": {
        "id": "OUZlx4JpU1fS",
        "colab_type": "text"
      },
      "source": [
        "https://www.hackerrank.com/challenges/halloween-sale/problem"
      ]
    },
    {
      "cell_type": "code",
      "metadata": {
        "id": "aXYTOs2wUuvf",
        "colab_type": "code",
        "colab": {}
      },
      "source": [
        "#!/bin/python3\n",
        "\n",
        "import math\n",
        "import os\n",
        "import random\n",
        "import re\n",
        "import sys"
      ],
      "execution_count": 1,
      "outputs": []
    },
    {
      "cell_type": "code",
      "metadata": {
        "id": "HSxVMn0aUp0j",
        "colab_type": "code",
        "colab": {}
      },
      "source": [
        "def howManyGames(p, d, m, s):\n",
        "    result = 0\n",
        "\n",
        "    max_i = math.ceil((p - m) / d)\n",
        "\n",
        "    i = 0\n",
        "    while True:\n",
        "        if i < max_i:\n",
        "            s -= (p - i * d)\n",
        "            i += 1\n",
        "        else:\n",
        "            s -= m\n",
        "        if s >= 0:\n",
        "            result += 1\n",
        "        else:\n",
        "            break\n",
        "    return result"
      ],
      "execution_count": 4,
      "outputs": []
    },
    {
      "cell_type": "code",
      "metadata": {
        "id": "pEeQszMsVCw7",
        "colab_type": "code",
        "colab": {
          "base_uri": "https://localhost:8080/",
          "height": 50
        },
        "outputId": "6948c7e0-7766-48f5-e788-df7ac35c3ef1"
      },
      "source": [
        "if __name__ == '__main__':\n",
        "    p = 20\n",
        "    d = 3\n",
        "    m = 6\n",
        "    s = 85\n",
        "\n",
        "    answer = howManyGames(p, d, m, s)\n",
        "\n",
        "    print(str(answer) + '\\n')"
      ],
      "execution_count": 5,
      "outputs": [
        {
          "output_type": "stream",
          "text": [
            "7\n",
            "\n"
          ],
          "name": "stdout"
        }
      ]
    }
  ]
}