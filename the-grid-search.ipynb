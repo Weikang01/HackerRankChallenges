{
  "nbformat": 4,
  "nbformat_minor": 0,
  "metadata": {
    "colab": {
      "name": "Untitled10.ipynb",
      "provenance": [],
      "authorship_tag": "ABX9TyO4G/14m4kxMbedKdkpGrtk",
      "include_colab_link": true
    },
    "kernelspec": {
      "name": "python3",
      "display_name": "Python 3"
    }
  },
  "cells": [
    {
      "cell_type": "markdown",
      "metadata": {
        "id": "view-in-github",
        "colab_type": "text"
      },
      "source": [
        "<a href=\"https://colab.research.google.com/github/Weikang01/HackerRankChallenges/blob/master/the-grid-search.ipynb\" target=\"_parent\"><img src=\"https://colab.research.google.com/assets/colab-badge.svg\" alt=\"Open In Colab\"/></a>"
      ]
    },
    {
      "cell_type": "markdown",
      "metadata": {
        "id": "OUZlx4JpU1fS",
        "colab_type": "text"
      },
      "source": [
        "https://www.hackerrank.com/challenges/the-grid-search/problem"
      ]
    },
    {
      "cell_type": "code",
      "metadata": {
        "id": "aXYTOs2wUuvf",
        "colab_type": "code",
        "colab": {}
      },
      "source": [
        "#!/bin/python3\n",
        "\n",
        "import math\n",
        "import os\n",
        "import random\n",
        "import re\n",
        "import sys"
      ],
      "execution_count": 4,
      "outputs": []
    },
    {
      "cell_type": "code",
      "metadata": {
        "id": "HSxVMn0aUp0j",
        "colab_type": "code",
        "colab": {}
      },
      "source": [
        "def gridSearch(R, C, G, r, c, P):\n",
        "    for i in range(R - r + 1):\n",
        "        for j in range(C - c + 1):\n",
        "            if G[i][j] == P[0][0]:\n",
        "                if G[i][j:j + c] == P[0]:\n",
        "                    has_error = False\n",
        "                    for k in range(1, r):\n",
        "                        if G[i + k][j:j + c] != P[k]:\n",
        "                            has_error = True\n",
        "                            break\n",
        "                    if not has_error:\n",
        "                        return 'YES'\n",
        "    return 'NO'"
      ],
      "execution_count": 13,
      "outputs": []
    },
    {
      "cell_type": "code",
      "metadata": {
        "id": "pEeQszMsVCw7",
        "colab_type": "code",
        "colab": {
          "base_uri": "https://localhost:8080/",
          "height": 50
        },
        "outputId": "d0859a43-1850-45db-d7e7-71c2d88c0783"
      },
      "source": [
        "if __name__ == '__main__':\n",
        "    G = [\n",
        "        '7283455864',\n",
        "        '6731158619',\n",
        "        '8988242643',\n",
        "        '3830589324',\n",
        "        '2229505813',\n",
        "        '5633845374',\n",
        "        '6473530293',\n",
        "        '7053106601',\n",
        "        '0834282956',\n",
        "        '4607924137',\n",
        "    ]\n",
        "\n",
        "    R = len(G)\n",
        "    C = len(G[0])\n",
        "\n",
        "    P = [\n",
        "        '9505',\n",
        "        '3845',\n",
        "        '3530',\n",
        "    ]\n",
        "\n",
        "    r = len(P)\n",
        "    c = len(P[0])\n",
        "\n",
        "    result = gridSearch(R, C, G, r, c, P)\n",
        "\n",
        "    print(result + '\\n')"
      ],
      "execution_count": 14,
      "outputs": [
        {
          "output_type": "stream",
          "text": [
            "YES\n",
            "\n"
          ],
          "name": "stdout"
        }
      ]
    }
  ]
}