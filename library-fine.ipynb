{
  "nbformat": 4,
  "nbformat_minor": 0,
  "metadata": {
    "colab": {
      "name": "Untitled10.ipynb",
      "provenance": [],
      "authorship_tag": "ABX9TyO0cEsyRV/T7rO9hAeeSbv4",
      "include_colab_link": true
    },
    "kernelspec": {
      "name": "python3",
      "display_name": "Python 3"
    }
  },
  "cells": [
    {
      "cell_type": "markdown",
      "metadata": {
        "id": "view-in-github",
        "colab_type": "text"
      },
      "source": [
        "<a href=\"https://colab.research.google.com/github/Weikang01/HackerRankChallenges/blob/master/library-fine.ipynb\" target=\"_parent\"><img src=\"https://colab.research.google.com/assets/colab-badge.svg\" alt=\"Open In Colab\"/></a>"
      ]
    },
    {
      "cell_type": "markdown",
      "metadata": {
        "id": "OUZlx4JpU1fS",
        "colab_type": "text"
      },
      "source": [
        "https://www.hackerrank.com/challenges/library-fine/problem"
      ]
    },
    {
      "cell_type": "code",
      "metadata": {
        "id": "aXYTOs2wUuvf",
        "colab_type": "code",
        "colab": {}
      },
      "source": [
        "#!/bin/python3\n",
        "\n",
        "import math\n",
        "import os\n",
        "import random\n",
        "import re\n",
        "import sys"
      ],
      "execution_count": 13,
      "outputs": []
    },
    {
      "cell_type": "code",
      "metadata": {
        "id": "HSxVMn0aUp0j",
        "colab_type": "code",
        "colab": {}
      },
      "source": [
        "def libraryFine(d1, m1, y1, d2, m2, y2):\n",
        "    if y1 > y2:\n",
        "        return (y1 - y2) * 10_000\n",
        "    elif y1 < y2:\n",
        "        return 0\n",
        "    if m1 > m2:\n",
        "        return (m1 - m2) * 500\n",
        "    elif m1 < m2:\n",
        "        return 0\n",
        "    if d1 > d2:\n",
        "        return (d1 - d2) * 15\n",
        "    return 0"
      ],
      "execution_count": 30,
      "outputs": []
    },
    {
      "cell_type": "code",
      "metadata": {
        "id": "pEeQszMsVCw7",
        "colab_type": "code",
        "colab": {
          "base_uri": "https://localhost:8080/",
          "height": 50
        },
        "outputId": "fe55fa8f-e185-4b56-e0d2-854919d0dfbc"
      },
      "source": [
        "if __name__ == '__main__':\n",
        "    d1 = 9\n",
        "    m1 = 6\n",
        "    y1 = 2016\n",
        "    d2 = 6\n",
        "    m2 = 6\n",
        "    y2 = 2015\n",
        "\n",
        "    result = libraryFine(d1, m1, y1, d2, m2, y2)\n",
        "\n",
        "    print(str(result) + '\\n')"
      ],
      "execution_count": 31,
      "outputs": [
        {
          "output_type": "stream",
          "text": [
            "10000\n",
            "\n"
          ],
          "name": "stdout"
        }
      ]
    }
  ]
}