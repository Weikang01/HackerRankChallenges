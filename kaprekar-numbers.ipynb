{
  "nbformat": 4,
  "nbformat_minor": 0,
  "metadata": {
    "colab": {
      "name": "Untitled10.ipynb",
      "provenance": [],
      "authorship_tag": "ABX9TyPDqqWHhbwvK3eg/DULXUkV",
      "include_colab_link": true
    },
    "kernelspec": {
      "name": "python3",
      "display_name": "Python 3"
    }
  },
  "cells": [
    {
      "cell_type": "markdown",
      "metadata": {
        "id": "view-in-github",
        "colab_type": "text"
      },
      "source": [
        "<a href=\"https://colab.research.google.com/github/Weikang01/HackerRankChallenges/blob/master/kaprekar-numbers.ipynb\" target=\"_parent\"><img src=\"https://colab.research.google.com/assets/colab-badge.svg\" alt=\"Open In Colab\"/></a>"
      ]
    },
    {
      "cell_type": "markdown",
      "metadata": {
        "id": "OUZlx4JpU1fS",
        "colab_type": "text"
      },
      "source": [
        "https://www.hackerrank.com/challenges/kaprekar-numbers/problem"
      ]
    },
    {
      "cell_type": "code",
      "metadata": {
        "id": "aXYTOs2wUuvf",
        "colab_type": "code",
        "colab": {}
      },
      "source": [
        "#!/bin/python3\n",
        "\n",
        "import math\n",
        "import os\n",
        "import random\n",
        "import re\n",
        "import sys"
      ],
      "execution_count": 5,
      "outputs": []
    },
    {
      "cell_type": "code",
      "metadata": {
        "id": "HSxVMn0aUp0j",
        "colab_type": "code",
        "colab": {}
      },
      "source": [
        "def kaprekarNumbers(p, q):\n",
        "    result = []\n",
        "    for item in range(p, q + 1):\n",
        "        square_str = str(item ** 2)\n",
        "        square_len = len(square_str)\n",
        "        item_str = len(str(item))\n",
        "        item_len = square_len - item_str\n",
        "        part1 = square_str[:item_len]\n",
        "        part2 = square_str[item_len:]\n",
        "        if not part1:\n",
        "            part1 = 0\n",
        "        if int(part1) + int(part2) == item:\n",
        "            result.append(str(item))\n",
        "\n",
        "    if not result:\n",
        "        print('INVALID RANGE')\n",
        "    print(' '.join(result))"
      ],
      "execution_count": 10,
      "outputs": []
    },
    {
      "cell_type": "code",
      "metadata": {
        "id": "pEeQszMsVCw7",
        "colab_type": "code",
        "colab": {
          "base_uri": "https://localhost:8080/",
          "height": 34
        },
        "outputId": "08fdf0aa-4bbb-4b17-d719-f61694d65079"
      },
      "source": [
        "if __name__ == '__main__':\n",
        "    p = 1\n",
        "    q = 100000\n",
        "\n",
        "    kaprekarNumbers(p, q)"
      ],
      "execution_count": 11,
      "outputs": [
        {
          "output_type": "stream",
          "text": [
            "1 9 45 55 99 297 703 999 2223 2728 4950 5050 7272 7777 9999 17344 22222 77778 82656 95121 99999\n"
          ],
          "name": "stdout"
        }
      ]
    }
  ]
}