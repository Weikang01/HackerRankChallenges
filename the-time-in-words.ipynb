{
  "nbformat": 4,
  "nbformat_minor": 0,
  "metadata": {
    "colab": {
      "name": "Untitled10.ipynb",
      "provenance": [],
      "authorship_tag": "ABX9TyPlyUZxRf5hjoa9mIqkZ5rU",
      "include_colab_link": true
    },
    "kernelspec": {
      "name": "python3",
      "display_name": "Python 3"
    }
  },
  "cells": [
    {
      "cell_type": "markdown",
      "metadata": {
        "id": "view-in-github",
        "colab_type": "text"
      },
      "source": [
        "<a href=\"https://colab.research.google.com/github/Weikang01/HackerRankChallenges/blob/master/the-time-in-words.ipynb\" target=\"_parent\"><img src=\"https://colab.research.google.com/assets/colab-badge.svg\" alt=\"Open In Colab\"/></a>"
      ]
    },
    {
      "cell_type": "markdown",
      "metadata": {
        "id": "OUZlx4JpU1fS",
        "colab_type": "text"
      },
      "source": [
        "https://www.hackerrank.com/challenges/the-time-in-words/problem"
      ]
    },
    {
      "cell_type": "code",
      "metadata": {
        "id": "aXYTOs2wUuvf",
        "colab_type": "code",
        "colab": {}
      },
      "source": [
        "#!/bin/python3\n",
        "\n",
        "import math\n",
        "import os\n",
        "import random\n",
        "import re\n",
        "import sys"
      ],
      "execution_count": 1,
      "outputs": []
    },
    {
      "cell_type": "code",
      "metadata": {
        "id": "HSxVMn0aUp0j",
        "colab_type": "code",
        "colab": {}
      },
      "source": [
        "def timeInWords(h, m):\n",
        "    MINUTES_IN_HOUR = 60\n",
        "    one_to_nineteen = [\n",
        "        '',\n",
        "        'one',\n",
        "        'two',\n",
        "        'three',\n",
        "        'four',\n",
        "        'five',\n",
        "        'six',\n",
        "        'seven',\n",
        "        'eight',\n",
        "        'nine',\n",
        "        'ten',\n",
        "        'eleven',\n",
        "        'twelve',\n",
        "        'thirteen',\n",
        "        'fourteen',\n",
        "        'fifteen',\n",
        "        'sixteen',\n",
        "        'seventeen',\n",
        "        'eighteen',\n",
        "        'nineteen',\n",
        "    ]\n",
        "\n",
        "    if m > 30:\n",
        "        m = MINUTES_IN_HOUR - m\n",
        "        if m >= 20:\n",
        "            m_value = f'twenty {one_to_nineteen[m % 20]}'.rstrip()\n",
        "            return f'{m_value} minutes to {one_to_nineteen[h + 1]}'\n",
        "        if m == 15:\n",
        "            return f'quarter to {one_to_nineteen[h + 1]}'\n",
        "        else:\n",
        "            m_value = one_to_nineteen[m]\n",
        "            minutes = 'minutes' if m - 1 else 'minute'\n",
        "            return f'{m_value} {minutes} to {one_to_nineteen[h + 1]}'\n",
        "    elif m == 30:\n",
        "        return 'half past ' + one_to_nineteen[h]\n",
        "    else:\n",
        "        if m >= 20:\n",
        "            m_value = f'twenty {one_to_nineteen[m % 20]}'.rstrip()\n",
        "            return f'{m_value} minutes past {one_to_nineteen[h]}'\n",
        "        if m == 15:\n",
        "            return f'quarter past {one_to_nineteen[h]}'\n",
        "        if m == 0:\n",
        "            return f\"{one_to_nineteen[h]} o' clock\"\n",
        "        else:\n",
        "            m_value = one_to_nineteen[m]\n",
        "            minutes = 'minutes' if m - 1 else 'minute'\n",
        "            return f'{m_value} {minutes} past {one_to_nineteen[h]}'"
      ],
      "execution_count": 6,
      "outputs": []
    },
    {
      "cell_type": "code",
      "metadata": {
        "id": "pEeQszMsVCw7",
        "colab_type": "code",
        "colab": {
          "base_uri": "https://localhost:8080/",
          "height": 50
        },
        "outputId": "027ffcd6-07bf-402f-8b6d-56f7cc9b95cc"
      },
      "source": [
        "if __name__ == '__main__':\n",
        "    h = 12\n",
        "    m = 41\n",
        "\n",
        "    result = timeInWords(h, m)\n",
        "\n",
        "    print(result + '\\n')"
      ],
      "execution_count": 7,
      "outputs": [
        {
          "output_type": "stream",
          "text": [
            "nineteen minutes to thirteen\n",
            "\n"
          ],
          "name": "stdout"
        }
      ]
    }
  ]
}