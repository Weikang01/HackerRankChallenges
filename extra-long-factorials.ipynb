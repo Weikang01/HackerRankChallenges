{
  "nbformat": 4,
  "nbformat_minor": 0,
  "metadata": {
    "colab": {
      "name": "Untitled10.ipynb",
      "provenance": [],
      "authorship_tag": "ABX9TyNEFz4JeFREdwGcFELoqT73",
      "include_colab_link": true
    },
    "kernelspec": {
      "name": "python3",
      "display_name": "Python 3"
    }
  },
  "cells": [
    {
      "cell_type": "markdown",
      "metadata": {
        "id": "view-in-github",
        "colab_type": "text"
      },
      "source": [
        "<a href=\"https://colab.research.google.com/github/Weikang01/HackerRankChallenges/blob/master/extra-long-factorials.ipynb\" target=\"_parent\"><img src=\"https://colab.research.google.com/assets/colab-badge.svg\" alt=\"Open In Colab\"/></a>"
      ]
    },
    {
      "cell_type": "markdown",
      "metadata": {
        "id": "OUZlx4JpU1fS",
        "colab_type": "text"
      },
      "source": [
        "https://www.hackerrank.com/challenges/extra-long-factorials/problem"
      ]
    },
    {
      "cell_type": "code",
      "metadata": {
        "id": "aXYTOs2wUuvf",
        "colab_type": "code",
        "colab": {}
      },
      "source": [
        "#!/bin/python3\n",
        "\n",
        "import math\n",
        "import os\n",
        "import random\n",
        "import re\n",
        "import sys"
      ],
      "execution_count": 13,
      "outputs": []
    },
    {
      "cell_type": "code",
      "metadata": {
        "id": "HSxVMn0aUp0j",
        "colab_type": "code",
        "colab": {}
      },
      "source": [
        "def extraLongFactorials(n):\n",
        "    print(math.factorial(n))"
      ],
      "execution_count": 24,
      "outputs": []
    },
    {
      "cell_type": "code",
      "metadata": {
        "id": "pEeQszMsVCw7",
        "colab_type": "code",
        "colab": {
          "base_uri": "https://localhost:8080/",
          "height": 34
        },
        "outputId": "ba84f418-2615-463d-a5f8-b6bd3c9b99d3"
      },
      "source": [
        "if __name__ == '__main__':\n",
        "  n = 25\n",
        "\n",
        "  extraLongFactorials(n)"
      ],
      "execution_count": 25,
      "outputs": [
        {
          "output_type": "stream",
          "text": [
            "15511210043330985984000000\n"
          ],
          "name": "stdout"
        }
      ]
    }
  ]
}