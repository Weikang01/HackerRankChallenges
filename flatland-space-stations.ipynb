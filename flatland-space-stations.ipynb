{
  "nbformat": 4,
  "nbformat_minor": 0,
  "metadata": {
    "colab": {
      "name": "Untitled10.ipynb",
      "provenance": [],
      "authorship_tag": "ABX9TyOO8ELE3XL/wNxLVV0RiUa4",
      "include_colab_link": true
    },
    "kernelspec": {
      "name": "python3",
      "display_name": "Python 3"
    }
  },
  "cells": [
    {
      "cell_type": "markdown",
      "metadata": {
        "id": "view-in-github",
        "colab_type": "text"
      },
      "source": [
        "<a href=\"https://colab.research.google.com/github/Weikang01/HackerRankChallenges/blob/master/flatland-space-stations.ipynb\" target=\"_parent\"><img src=\"https://colab.research.google.com/assets/colab-badge.svg\" alt=\"Open In Colab\"/></a>"
      ]
    },
    {
      "cell_type": "markdown",
      "metadata": {
        "id": "OUZlx4JpU1fS",
        "colab_type": "text"
      },
      "source": [
        "https://www.hackerrank.com/challenges/flatland-space-stations/problem"
      ]
    },
    {
      "cell_type": "code",
      "metadata": {
        "id": "aXYTOs2wUuvf",
        "colab_type": "code",
        "colab": {}
      },
      "source": [
        "#!/bin/python3\n",
        "\n",
        "import math\n",
        "import os\n",
        "import random\n",
        "import re\n",
        "import sys"
      ],
      "execution_count": 1,
      "outputs": []
    },
    {
      "cell_type": "code",
      "metadata": {
        "id": "HSxVMn0aUp0j",
        "colab_type": "code",
        "colab": {}
      },
      "source": [
        "def flatlandSpaceStations(n, c):\n",
        "    c.sort()\n",
        "    len_c = len(c)\n",
        "    if len_c == n:\n",
        "        return 0\n",
        "    elif len_c == n - 1:\n",
        "        return 1\n",
        "    value = 0\n",
        "    for i in range(len_c - 1):\n",
        "        cur = (c[i + 1] - c[i]) // 2\n",
        "\n",
        "        if cur > value:\n",
        "            value = cur\n",
        "\n",
        "    return max(value, n - c[-1] - 1, c[0])"
      ],
      "execution_count": 2,
      "outputs": []
    },
    {
      "cell_type": "code",
      "metadata": {
        "id": "pEeQszMsVCw7",
        "colab_type": "code",
        "colab": {
          "base_uri": "https://localhost:8080/",
          "height": 50
        },
        "outputId": "5f289feb-4041-401a-e28f-00613966f3f8"
      },
      "source": [
        "if __name__ == '__main__':\n",
        "    n = 2\n",
        "    c = [68, 81, 46, 54, 30, 11, 19, 23, 22, 12, 38, 91, 48, 75, 26, 86, 29, 83, 62]\n",
        "\n",
        "    result = flatlandSpaceStations(n, c)\n",
        "\n",
        "    print(str(result) + '\\n')"
      ],
      "execution_count": 3,
      "outputs": [
        {
          "output_type": "stream",
          "text": [
            "11\n",
            "\n"
          ],
          "name": "stdout"
        }
      ]
    }
  ]
}