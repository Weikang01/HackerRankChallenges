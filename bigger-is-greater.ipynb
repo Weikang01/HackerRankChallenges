{
  "nbformat": 4,
  "nbformat_minor": 0,
  "metadata": {
    "colab": {
      "name": "Untitled10.ipynb",
      "provenance": [],
      "authorship_tag": "ABX9TyOgi2ncBDdcHRtxAOnO5ntN",
      "include_colab_link": true
    },
    "kernelspec": {
      "name": "python3",
      "display_name": "Python 3"
    }
  },
  "cells": [
    {
      "cell_type": "markdown",
      "metadata": {
        "id": "view-in-github",
        "colab_type": "text"
      },
      "source": [
        "<a href=\"https://colab.research.google.com/github/Weikang01/HackerRankChallenges/blob/master/bigger-is-greater.ipynb\" target=\"_parent\"><img src=\"https://colab.research.google.com/assets/colab-badge.svg\" alt=\"Open In Colab\"/></a>"
      ]
    },
    {
      "cell_type": "markdown",
      "metadata": {
        "id": "OUZlx4JpU1fS",
        "colab_type": "text"
      },
      "source": [
        "https://www.hackerrank.com/challenges/bigger-is-greater/problem"
      ]
    },
    {
      "cell_type": "code",
      "metadata": {
        "id": "aXYTOs2wUuvf",
        "colab_type": "code",
        "colab": {}
      },
      "source": [
        "#!/bin/python3\n",
        "\n",
        "import math\n",
        "import os\n",
        "import random\n",
        "import re\n",
        "import sys"
      ],
      "execution_count": 5,
      "outputs": []
    },
    {
      "cell_type": "code",
      "metadata": {
        "id": "HSxVMn0aUp0j",
        "colab_type": "code",
        "colab": {}
      },
      "source": [
        "def biggerIsGreater(w):\n",
        "    len_w = len(w)\n",
        "\n",
        "    for i in range(len_w - 1, 0, -1):\n",
        "        if w[i - 1] < w[i]:\n",
        "            rank = sorted(set(w[i - 1:]))\n",
        "\n",
        "            tail_no_head = list(w[i:])\n",
        "\n",
        "            num_rank = rank.index(w[i - 1])\n",
        "\n",
        "            tail_no_head.remove(rank[num_rank + 1])\n",
        "            tail_no_head.append(w[i - 1])\n",
        "            tail_no_head.sort()\n",
        "\n",
        "            return w[:i - 1] + rank[num_rank + 1] + ''.join(tail_no_head)\n",
        "    return 'no answer'"
      ],
      "execution_count": 8,
      "outputs": []
    },
    {
      "cell_type": "code",
      "metadata": {
        "id": "pEeQszMsVCw7",
        "colab_type": "code",
        "colab": {
          "base_uri": "https://localhost:8080/",
          "height": 50
        },
        "outputId": "32d71de7-c17d-44e2-dc9d-d4a7031597dc"
      },
      "source": [
        "if __name__ == '__main__':\n",
        "  w = 'ljconwevgrxhtfvlaotcfdzomejmyugaoorneqwvwqbwlpkmhprkygeypwdhcayzoufuvwlbjlkqpiigmczfqgrwh'\n",
        "  result = biggerIsGreater(w)\n",
        "  print(result + '\\n')"
      ],
      "execution_count": 9,
      "outputs": [
        {
          "output_type": "stream",
          "text": [
            "ljconwevgrxhtfvlaotcfdzomejmyugaoorneqwvwqbwlpkmhprkygeypwdhcayzoufuvwlbjlkqpiigmczfqgwhr\n",
            "\n"
          ],
          "name": "stdout"
        }
      ]
    }
  ]
}