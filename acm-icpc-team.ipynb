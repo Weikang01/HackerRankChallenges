{
  "nbformat": 4,
  "nbformat_minor": 0,
  "metadata": {
    "colab": {
      "name": "Untitled10.ipynb",
      "provenance": [],
      "authorship_tag": "ABX9TyMDmA4sFHSzVsZkorjUQPkY",
      "include_colab_link": true
    },
    "kernelspec": {
      "name": "python3",
      "display_name": "Python 3"
    }
  },
  "cells": [
    {
      "cell_type": "markdown",
      "metadata": {
        "id": "view-in-github",
        "colab_type": "text"
      },
      "source": [
        "<a href=\"https://colab.research.google.com/github/Weikang01/HackerRankChallenges/blob/master/acm-icpc-team.ipynb\" target=\"_parent\"><img src=\"https://colab.research.google.com/assets/colab-badge.svg\" alt=\"Open In Colab\"/></a>"
      ]
    },
    {
      "cell_type": "markdown",
      "metadata": {
        "id": "OUZlx4JpU1fS",
        "colab_type": "text"
      },
      "source": [
        "https://www.hackerrank.com/challenges/acm-icpc-team/problem"
      ]
    },
    {
      "cell_type": "code",
      "metadata": {
        "id": "aXYTOs2wUuvf",
        "colab_type": "code",
        "colab": {}
      },
      "source": [
        "#!/bin/python3\n",
        "\n",
        "import math\n",
        "import os\n",
        "import random\n",
        "import re\n",
        "import sys"
      ],
      "execution_count": null,
      "outputs": []
    },
    {
      "cell_type": "code",
      "metadata": {
        "id": "HSxVMn0aUp0j",
        "colab_type": "code",
        "colab": {}
      },
      "source": [
        "def acmTeam(topic):\n",
        "    topic = [int(item, base=2) for item in topic]\n",
        "    len_topic = len(topic)\n",
        "\n",
        "    max_value = 0\n",
        "    max_count = 0\n",
        "    for i in range(len_topic - 1):\n",
        "        for j in range(len_topic - 1, i, -1):\n",
        "            value = topic[i] | topic[j]\n",
        "            cur_value = 0\n",
        "            while value:\n",
        "                cur_value += value & 1\n",
        "                value >>= 1\n",
        "            if cur_value > max_value:\n",
        "                max_value = cur_value\n",
        "                max_count = 1\n",
        "            elif cur_value == max_value:\n",
        "                max_count += 1\n",
        "\n",
        "    return [max_value, max_count]"
      ],
      "execution_count": 5,
      "outputs": []
    },
    {
      "cell_type": "code",
      "metadata": {
        "id": "pEeQszMsVCw7",
        "colab_type": "code",
        "colab": {
          "base_uri": "https://localhost:8080/",
          "height": 50
        },
        "outputId": "2ca12b1b-b644-439b-b819-a29ca5bfe53a"
      },
      "source": [
        "if __name__ == '__main__':\n",
        "    topic = [\n",
        "        '10101',\n",
        "        '11110',\n",
        "        '00010',\n",
        "    ]\n",
        "\n",
        "    result = acmTeam(topic)\n",
        "\n",
        "    print('\\n'.join(map(str, result)))"
      ],
      "execution_count": 6,
      "outputs": [
        {
          "output_type": "stream",
          "text": [
            "5\n",
            "1\n"
          ],
          "name": "stdout"
        }
      ]
    }
  ]
}