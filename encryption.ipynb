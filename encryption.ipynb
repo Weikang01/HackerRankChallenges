{
  "nbformat": 4,
  "nbformat_minor": 0,
  "metadata": {
    "colab": {
      "name": "Untitled10.ipynb",
      "provenance": [],
      "authorship_tag": "ABX9TyM0u1a5r2GtYqiARIZwiSRI",
      "include_colab_link": true
    },
    "kernelspec": {
      "name": "python3",
      "display_name": "Python 3"
    }
  },
  "cells": [
    {
      "cell_type": "markdown",
      "metadata": {
        "id": "view-in-github",
        "colab_type": "text"
      },
      "source": [
        "<a href=\"https://colab.research.google.com/github/Weikang01/HackerRankChallenges/blob/master/encryption.ipynb\" target=\"_parent\"><img src=\"https://colab.research.google.com/assets/colab-badge.svg\" alt=\"Open In Colab\"/></a>"
      ]
    },
    {
      "cell_type": "markdown",
      "metadata": {
        "id": "OUZlx4JpU1fS",
        "colab_type": "text"
      },
      "source": [
        "https://www.hackerrank.com/challenges/encryption/problem"
      ]
    },
    {
      "cell_type": "code",
      "metadata": {
        "id": "aXYTOs2wUuvf",
        "colab_type": "code",
        "colab": {}
      },
      "source": [
        "#!/bin/python3\n",
        "\n",
        "import math\n",
        "import os\n",
        "import random\n",
        "import re\n",
        "import sys"
      ],
      "execution_count": 5,
      "outputs": []
    },
    {
      "cell_type": "code",
      "metadata": {
        "id": "HSxVMn0aUp0j",
        "colab_type": "code",
        "colab": {}
      },
      "source": [
        "def encryption(s):\n",
        "    s = s.replace(' ', '')\n",
        "    len_s = len(s)\n",
        "\n",
        "    sqrt_len = math.sqrt(len_s)\n",
        "    sqrt_ceil = math.ceil(sqrt_len)\n",
        "\n",
        "    encoded = [''] * sqrt_ceil\n",
        "    for i in range(len_s):\n",
        "        encoded[i % sqrt_ceil] += s[i]\n",
        "\n",
        "    return ' '.join(encoded)"
      ],
      "execution_count": 6,
      "outputs": []
    },
    {
      "cell_type": "code",
      "metadata": {
        "id": "pEeQszMsVCw7",
        "colab_type": "code",
        "colab": {
          "base_uri": "https://localhost:8080/",
          "height": 50
        },
        "outputId": "da1b5a98-6dbf-48bd-c9ed-e2c1c7338317"
      },
      "source": [
        "if __name__ == '__main__':\n",
        "    s = 'ifmanwasmeanttostayonthegroundgodwouldhavegivenusroots'\n",
        "\n",
        "    result = encryption(s)\n",
        "\n",
        "    print(result + '\\n')"
      ],
      "execution_count": 7,
      "outputs": [
        {
          "output_type": "stream",
          "text": [
            "imtgdvs fearwer mayoogo anouuio ntnnlvt wttddes aohghn sseoau\n",
            "\n"
          ],
          "name": "stdout"
        }
      ]
    }
  ]
}