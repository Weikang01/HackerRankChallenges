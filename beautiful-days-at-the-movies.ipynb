{
  "nbformat": 4,
  "nbformat_minor": 0,
  "metadata": {
    "colab": {
      "name": "Untitled10.ipynb",
      "provenance": [],
      "authorship_tag": "ABX9TyOfUGiIxcAmOn9X4KTk98JO",
      "include_colab_link": true
    },
    "kernelspec": {
      "name": "python3",
      "display_name": "Python 3"
    }
  },
  "cells": [
    {
      "cell_type": "markdown",
      "metadata": {
        "id": "view-in-github",
        "colab_type": "text"
      },
      "source": [
        "<a href=\"https://colab.research.google.com/github/Weikang01/HackerRankChallenges/blob/master/beautiful-days-at-the-movies.ipynb\" target=\"_parent\"><img src=\"https://colab.research.google.com/assets/colab-badge.svg\" alt=\"Open In Colab\"/></a>"
      ]
    },
    {
      "cell_type": "markdown",
      "metadata": {
        "id": "OUZlx4JpU1fS",
        "colab_type": "text"
      },
      "source": [
        "Challenge: https://www.hackerrank.com/challenges/beautiful-days-at-the-movies/problem"
      ]
    },
    {
      "cell_type": "code",
      "metadata": {
        "id": "aXYTOs2wUuvf",
        "colab_type": "code",
        "colab": {}
      },
      "source": [
        "#!/bin/python3\n",
        "\n",
        "import math\n",
        "import os\n",
        "import random\n",
        "import re\n",
        "import sys"
      ],
      "execution_count": 13,
      "outputs": []
    },
    {
      "cell_type": "code",
      "metadata": {
        "id": "HSxVMn0aUp0j",
        "colab_type": "code",
        "colab": {}
      },
      "source": [
        "def beautifulDays(i, j, k):\n",
        "    num_list = [list(str(item)) for item in list(range(i, j + 1))]\n",
        "    result = 0\n",
        "    for item in num_list:\n",
        "        if not (int(''.join(item)) - int(''.join(item[::-1]))) % k:\n",
        "            result += 1\n",
        "    return result"
      ],
      "execution_count": 14,
      "outputs": []
    },
    {
      "cell_type": "code",
      "metadata": {
        "id": "pEeQszMsVCw7",
        "colab_type": "code",
        "colab": {
          "base_uri": "https://localhost:8080/",
          "height": 50
        },
        "outputId": "df0fd84c-1eae-48cd-deaf-87a34246f0cf"
      },
      "source": [
        "if __name__ == '__main__':\n",
        "    i = 20\n",
        "    j = 23\n",
        "    k = 6\n",
        "\n",
        "    result = beautifulDays(i, j, k)\n",
        "    print(str(result) + '\\n')"
      ],
      "execution_count": 15,
      "outputs": [
        {
          "output_type": "stream",
          "text": [
            "2\n",
            "\n"
          ],
          "name": "stdout"
        }
      ]
    }
  ]
}