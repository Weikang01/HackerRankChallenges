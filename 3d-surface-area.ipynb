{
  "nbformat": 4,
  "nbformat_minor": 0,
  "metadata": {
    "colab": {
      "name": "Untitled10.ipynb",
      "provenance": [],
      "authorship_tag": "ABX9TyOud8IRGg4KcWa0t2KBURc2",
      "include_colab_link": true
    },
    "kernelspec": {
      "name": "python3",
      "display_name": "Python 3"
    }
  },
  "cells": [
    {
      "cell_type": "markdown",
      "metadata": {
        "id": "view-in-github",
        "colab_type": "text"
      },
      "source": [
        "<a href=\"https://colab.research.google.com/github/Weikang01/HackerRankChallenges/blob/master/3d-surface-area.ipynb\" target=\"_parent\"><img src=\"https://colab.research.google.com/assets/colab-badge.svg\" alt=\"Open In Colab\"/></a>"
      ]
    },
    {
      "cell_type": "markdown",
      "metadata": {
        "id": "OUZlx4JpU1fS",
        "colab_type": "text"
      },
      "source": [
        "https://www.hackerrank.com/challenges/3d-surface-area/problem"
      ]
    },
    {
      "cell_type": "code",
      "metadata": {
        "id": "aXYTOs2wUuvf",
        "colab_type": "code",
        "colab": {}
      },
      "source": [
        "#!/bin/python3\n",
        "\n",
        "import math\n",
        "import os\n",
        "import random\n",
        "import re\n",
        "import sys"
      ],
      "execution_count": 1,
      "outputs": []
    },
    {
      "cell_type": "code",
      "metadata": {
        "id": "HSxVMn0aUp0j",
        "colab_type": "code",
        "colab": {}
      },
      "source": [
        "def surfaceArea(H, W, A):\n",
        "    bottom = H * W * 2\n",
        "\n",
        "    forward = sum(A[0])\n",
        "    backward = sum(A[-1])\n",
        "    vert_inter = 0\n",
        "    left = 0\n",
        "    right = 0\n",
        "    for i in range(H):\n",
        "        left += A[i][0]\n",
        "        right += A[i][-1]\n",
        "        for j in range(W - 1):\n",
        "            if A[i][j] > A[i][j + 1]:\n",
        "                vert_inter += A[i][j] - A[i][j + 1]\n",
        "            else:\n",
        "                vert_inter -= A[i][j] - A[i][j + 1]\n",
        "\n",
        "    hor_inter = 0\n",
        "    for i in range(H - 1):\n",
        "        for j in range(W):\n",
        "            if A[i][j] > A[i + 1][j]:\n",
        "                hor_inter += A[i][j] - A[i + 1][j]\n",
        "            else:\n",
        "                hor_inter -= A[i][j] - A[i + 1][j]\n",
        "    return bottom + forward + backward + left + right + vert_inter + hor_inter"
      ],
      "execution_count": 4,
      "outputs": []
    },
    {
      "cell_type": "code",
      "metadata": {
        "id": "pEeQszMsVCw7",
        "colab_type": "code",
        "colab": {
          "base_uri": "https://localhost:8080/",
          "height": 50
        },
        "outputId": "ea1e68f7-20bf-4566-9560-26bc42282595"
      },
      "source": [
        "if __name__ == '__main__':\n",
        "    A = [\n",
        "        [1, 3, 4],\n",
        "        [2, 2, 3],\n",
        "        [1, 2, 4],\n",
        "    ]\n",
        "\n",
        "    H = 3\n",
        "    W = 3\n",
        "\n",
        "    result = surfaceArea(H, W, A)\n",
        "    print(str(result) + '\\n')"
      ],
      "execution_count": 5,
      "outputs": [
        {
          "output_type": "stream",
          "text": [
            "60\n",
            "\n"
          ],
          "name": "stdout"
        }
      ]
    }
  ]
}