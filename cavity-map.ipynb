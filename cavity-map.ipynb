{
  "nbformat": 4,
  "nbformat_minor": 0,
  "metadata": {
    "colab": {
      "name": "Untitled10.ipynb",
      "provenance": [],
      "authorship_tag": "ABX9TyNm+RhlWcGn0IFHCxKs2qGQ",
      "include_colab_link": true
    },
    "kernelspec": {
      "name": "python3",
      "display_name": "Python 3"
    }
  },
  "cells": [
    {
      "cell_type": "markdown",
      "metadata": {
        "id": "view-in-github",
        "colab_type": "text"
      },
      "source": [
        "<a href=\"https://colab.research.google.com/github/Weikang01/HackerRankChallenges/blob/master/cavity-map.ipynb\" target=\"_parent\"><img src=\"https://colab.research.google.com/assets/colab-badge.svg\" alt=\"Open In Colab\"/></a>"
      ]
    },
    {
      "cell_type": "markdown",
      "metadata": {
        "id": "OUZlx4JpU1fS",
        "colab_type": "text"
      },
      "source": [
        "https://www.hackerrank.com/challenges/cavity-map/problem"
      ]
    },
    {
      "cell_type": "code",
      "metadata": {
        "id": "aXYTOs2wUuvf",
        "colab_type": "code",
        "colab": {}
      },
      "source": [
        "#!/bin/python3\n",
        "\n",
        "import math\n",
        "import os\n",
        "import random\n",
        "import re\n",
        "import sys"
      ],
      "execution_count": 4,
      "outputs": []
    },
    {
      "cell_type": "code",
      "metadata": {
        "id": "HSxVMn0aUp0j",
        "colab_type": "code",
        "colab": {}
      },
      "source": [
        "def cavityMap(grid):\n",
        "    len_grid = len(grid)\n",
        "    if len_grid <= 2:\n",
        "        return grid\n",
        "\n",
        "    for i in range(1, len_grid - 1):\n",
        "        for j in range(1, len_grid - 1):\n",
        "            if grid[i - 1][j] == 'X' or grid[i + 1][j] == 'X' or grid[i][j - 1] == 'X' or grid[i][j + 1] == 'X':\n",
        "                continue\n",
        "            if grid[i][j] > max(grid[i - 1][j], grid[i + 1][j], grid[i][j - 1], grid[i][j + 1]):\n",
        "                list_row = list(grid[i])\n",
        "                list_row[j] = 'X'\n",
        "                grid[i] = ''.join(list_row)\n",
        "    return grid"
      ],
      "execution_count": 9,
      "outputs": []
    },
    {
      "cell_type": "code",
      "metadata": {
        "id": "pEeQszMsVCw7",
        "colab_type": "code",
        "colab": {
          "base_uri": "https://localhost:8080/",
          "height": 67
        },
        "outputId": "81451692-0db7-43df-ecf6-ff4db4a7f970"
      },
      "source": [
        "if __name__ == '__main__':\n",
        "    grid = [\n",
        "        '989',\n",
        "        '191',\n",
        "        '111',\n",
        "    ]\n",
        "\n",
        "    result = cavityMap(grid)\n",
        "\n",
        "    print('\\n'.join(result))"
      ],
      "execution_count": 10,
      "outputs": [
        {
          "output_type": "stream",
          "text": [
            "989\n",
            "1X1\n",
            "111\n"
          ],
          "name": "stdout"
        }
      ]
    }
  ]
}