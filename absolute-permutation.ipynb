{
  "nbformat": 4,
  "nbformat_minor": 0,
  "metadata": {
    "colab": {
      "name": "Untitled10.ipynb",
      "provenance": [],
      "authorship_tag": "ABX9TyNjJQhcvuvShOgg5ENu0RQ8",
      "include_colab_link": true
    },
    "kernelspec": {
      "name": "python3",
      "display_name": "Python 3"
    }
  },
  "cells": [
    {
      "cell_type": "markdown",
      "metadata": {
        "id": "view-in-github",
        "colab_type": "text"
      },
      "source": [
        "<a href=\"https://colab.research.google.com/github/Weikang01/HackerRankChallenges/blob/master/absolute-permutation.ipynb\" target=\"_parent\"><img src=\"https://colab.research.google.com/assets/colab-badge.svg\" alt=\"Open In Colab\"/></a>"
      ]
    },
    {
      "cell_type": "markdown",
      "metadata": {
        "id": "OUZlx4JpU1fS",
        "colab_type": "text"
      },
      "source": [
        "https://www.hackerrank.com/challenges/absolute-permutation/problem"
      ]
    },
    {
      "cell_type": "code",
      "metadata": {
        "id": "aXYTOs2wUuvf",
        "colab_type": "code",
        "colab": {}
      },
      "source": [
        "#!/bin/python3\n",
        "\n",
        "import math\n",
        "import os\n",
        "import random\n",
        "import re\n",
        "import sys"
      ],
      "execution_count": 1,
      "outputs": []
    },
    {
      "cell_type": "code",
      "metadata": {
        "id": "HSxVMn0aUp0j",
        "colab_type": "code",
        "colab": {}
      },
      "source": [
        "def absolutePermutation(n, k):\n",
        "    n_list = list(range(1, n + 1))\n",
        "    if not k:\n",
        "        return n_list\n",
        "    if n % (k * 2):\n",
        "        return [-1]\n",
        "\n",
        "    for i in range(0, n - k, k * 2):\n",
        "        for j in range(k):\n",
        "            n_list[i + j], n_list[i + j + k] = n_list[i + j + k], n_list[i + j]\n",
        "    return n_list"
      ],
      "execution_count": 6,
      "outputs": []
    },
    {
      "cell_type": "code",
      "metadata": {
        "id": "pEeQszMsVCw7",
        "colab_type": "code",
        "colab": {
          "base_uri": "https://localhost:8080/",
          "height": 34
        },
        "outputId": "375d3f56-6a70-4e53-beef-841ce47f90b5"
      },
      "source": [
        "if __name__ == '__main__':\n",
        "    n = 12\n",
        "    k = 3\n",
        "\n",
        "    result = absolutePermutation(n, k)\n",
        "\n",
        "    print(' '.join(map(str, result)))"
      ],
      "execution_count": 7,
      "outputs": [
        {
          "output_type": "stream",
          "text": [
            "4 5 6 1 2 3 10 11 12 7 8 9\n"
          ],
          "name": "stdout"
        }
      ]
    }
  ]
}