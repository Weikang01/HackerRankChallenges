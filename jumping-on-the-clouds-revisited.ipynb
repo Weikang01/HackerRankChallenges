{
  "nbformat": 4,
  "nbformat_minor": 0,
  "metadata": {
    "colab": {
      "name": "Untitled10.ipynb",
      "provenance": [],
      "authorship_tag": "ABX9TyOwT6YsKzA7eXTZSNkER2OQ",
      "include_colab_link": true
    },
    "kernelspec": {
      "name": "python3",
      "display_name": "Python 3"
    }
  },
  "cells": [
    {
      "cell_type": "markdown",
      "metadata": {
        "id": "view-in-github",
        "colab_type": "text"
      },
      "source": [
        "<a href=\"https://colab.research.google.com/github/Weikang01/HackerRankChallenges/blob/master/jumping-on-the-clouds-revisited.ipynb\" target=\"_parent\"><img src=\"https://colab.research.google.com/assets/colab-badge.svg\" alt=\"Open In Colab\"/></a>"
      ]
    },
    {
      "cell_type": "markdown",
      "metadata": {
        "id": "OUZlx4JpU1fS",
        "colab_type": "text"
      },
      "source": [
        "Challenge: https://www.hackerrank.com/challenges/jumping-on-the-clouds-revisited/problem"
      ]
    },
    {
      "cell_type": "code",
      "metadata": {
        "id": "aXYTOs2wUuvf",
        "colab_type": "code",
        "colab": {}
      },
      "source": [
        "#!/bin/python3\n",
        "\n",
        "import math\n",
        "import os\n",
        "import random\n",
        "import re\n",
        "import sys"
      ],
      "execution_count": 13,
      "outputs": []
    },
    {
      "cell_type": "code",
      "metadata": {
        "id": "HSxVMn0aUp0j",
        "colab_type": "code",
        "colab": {}
      },
      "source": [
        "def jumpingOnClouds(c, k):\n",
        "    len_c = len(c)\n",
        "    cur = 0\n",
        "    result = 100\n",
        "    while True:\n",
        "        result -= (c[cur] * 2 + 1)\n",
        "        cur = (cur + k) % len_c\n",
        "        if not cur:\n",
        "            break\n",
        "    return result"
      ],
      "execution_count": 20,
      "outputs": []
    },
    {
      "cell_type": "code",
      "metadata": {
        "id": "pEeQszMsVCw7",
        "colab_type": "code",
        "colab": {
          "base_uri": "https://localhost:8080/",
          "height": 50
        },
        "outputId": "75df5071-f4d7-4d87-e2d0-139b4fb4b706"
      },
      "source": [
        "if __name__ == '__main__':\n",
        "    k = 2\n",
        "    c = [0, 0, 1, 0, 0, 1, 1, 0]\n",
        "\n",
        "    result = jumpingOnClouds(c, k)\n",
        "\n",
        "    print(str(result) + '\\n')"
      ],
      "execution_count": 21,
      "outputs": [
        {
          "output_type": "stream",
          "text": [
            "92\n",
            "\n"
          ],
          "name": "stdout"
        }
      ]
    }
  ]
}