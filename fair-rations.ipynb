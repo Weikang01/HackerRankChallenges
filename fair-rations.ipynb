{
  "nbformat": 4,
  "nbformat_minor": 0,
  "metadata": {
    "colab": {
      "name": "Untitled10.ipynb",
      "provenance": [],
      "authorship_tag": "ABX9TyOeyrxagPd5jHniAteOAc5E",
      "include_colab_link": true
    },
    "kernelspec": {
      "name": "python3",
      "display_name": "Python 3"
    }
  },
  "cells": [
    {
      "cell_type": "markdown",
      "metadata": {
        "id": "view-in-github",
        "colab_type": "text"
      },
      "source": [
        "<a href=\"https://colab.research.google.com/github/Weikang01/HackerRankChallenges/blob/master/fair-rations.ipynb\" target=\"_parent\"><img src=\"https://colab.research.google.com/assets/colab-badge.svg\" alt=\"Open In Colab\"/></a>"
      ]
    },
    {
      "cell_type": "markdown",
      "metadata": {
        "id": "OUZlx4JpU1fS",
        "colab_type": "text"
      },
      "source": [
        "https://www.hackerrank.com/challenges/fair-rations/problem"
      ]
    },
    {
      "cell_type": "code",
      "metadata": {
        "id": "aXYTOs2wUuvf",
        "colab_type": "code",
        "colab": {}
      },
      "source": [
        "#!/bin/python3\n",
        "\n",
        "import math\n",
        "import os\n",
        "import random\n",
        "import re\n",
        "import sys"
      ],
      "execution_count": 4,
      "outputs": []
    },
    {
      "cell_type": "code",
      "metadata": {
        "id": "HSxVMn0aUp0j",
        "colab_type": "code",
        "colab": {}
      },
      "source": [
        "def fairRations(B):\n",
        "    result = 0\n",
        "    first = 0\n",
        "    second = 0\n",
        "    has_first = False\n",
        "    for i in range(len(B)):\n",
        "        if B[i] % 2:\n",
        "            if not has_first:\n",
        "                first = i\n",
        "                has_first = True\n",
        "            else:\n",
        "                second = i\n",
        "                result += (second - first) * 2\n",
        "                has_first = False\n",
        "\n",
        "    if not first and second:\n",
        "        return 0\n",
        "    if has_first:\n",
        "        return 'NO'\n",
        "    return result"
      ],
      "execution_count": 5,
      "outputs": []
    },
    {
      "cell_type": "code",
      "metadata": {
        "id": "pEeQszMsVCw7",
        "colab_type": "code",
        "colab": {
          "base_uri": "https://localhost:8080/",
          "height": 50
        },
        "outputId": "63f19694-2c33-4cf3-8816-d127c4a8a9a5"
      },
      "source": [
        "if __name__ == '__main__':\n",
        "    B = [2, 2, 2, 2, 1, 2, 1]\n",
        "\n",
        "    result = fairRations(B)\n",
        "\n",
        "    print(str(result) + '\\n')"
      ],
      "execution_count": 6,
      "outputs": [
        {
          "output_type": "stream",
          "text": [
            "4\n",
            "\n"
          ],
          "name": "stdout"
        }
      ]
    }
  ]
}