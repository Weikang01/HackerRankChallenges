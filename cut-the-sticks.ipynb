{
  "nbformat": 4,
  "nbformat_minor": 0,
  "metadata": {
    "colab": {
      "name": "Untitled10.ipynb",
      "provenance": [],
      "authorship_tag": "ABX9TyMhHS5F31rFUhJPxeD88bZ1",
      "include_colab_link": true
    },
    "kernelspec": {
      "name": "python3",
      "display_name": "Python 3"
    }
  },
  "cells": [
    {
      "cell_type": "markdown",
      "metadata": {
        "id": "view-in-github",
        "colab_type": "text"
      },
      "source": [
        "<a href=\"https://colab.research.google.com/github/Weikang01/HackerRankChallenges/blob/master/cut-the-sticks.ipynb\" target=\"_parent\"><img src=\"https://colab.research.google.com/assets/colab-badge.svg\" alt=\"Open In Colab\"/></a>"
      ]
    },
    {
      "cell_type": "markdown",
      "metadata": {
        "id": "OUZlx4JpU1fS",
        "colab_type": "text"
      },
      "source": [
        "https://www.hackerrank.com/challenges/cut-the-sticks/problem"
      ]
    },
    {
      "cell_type": "code",
      "metadata": {
        "id": "aXYTOs2wUuvf",
        "colab_type": "code",
        "colab": {}
      },
      "source": [
        "#!/bin/python3\n",
        "\n",
        "import math\n",
        "import os\n",
        "import random\n",
        "import re\n",
        "import sys"
      ],
      "execution_count": 13,
      "outputs": []
    },
    {
      "cell_type": "code",
      "metadata": {
        "id": "HSxVMn0aUp0j",
        "colab_type": "code",
        "colab": {}
      },
      "source": [
        "def cutTheSticks(arr):\n",
        "    arr.sort()\n",
        "    arr_set = sorted(set(arr))\n",
        "    arr_set_len = len(arr_set)\n",
        "    result = [len(arr)] * arr_set_len\n",
        "    cut = 0\n",
        "\n",
        "    for i in range(arr_set_len - 1):\n",
        "        cut += arr.count(arr_set[i])\n",
        "        result[i + 1] -= cut\n",
        "\n",
        "    return result"
      ],
      "execution_count": 32,
      "outputs": []
    },
    {
      "cell_type": "code",
      "metadata": {
        "id": "pEeQszMsVCw7",
        "colab_type": "code",
        "colab": {
          "base_uri": "https://localhost:8080/",
          "height": 67
        },
        "outputId": "2ffeb253-eec1-496f-e128-9053c6dd3732"
      },
      "source": [
        "if __name__ == '__main__':\n",
        "    arr = [1,2,3]\n",
        "\n",
        "    result = cutTheSticks(arr)\n",
        "\n",
        "    print('\\n'.join(map(str, result)))"
      ],
      "execution_count": 33,
      "outputs": [
        {
          "output_type": "stream",
          "text": [
            "3\n",
            "2\n",
            "1\n"
          ],
          "name": "stdout"
        }
      ]
    }
  ]
}