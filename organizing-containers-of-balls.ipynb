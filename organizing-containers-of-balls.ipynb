{
  "nbformat": 4,
  "nbformat_minor": 0,
  "metadata": {
    "colab": {
      "name": "Untitled10.ipynb",
      "provenance": [],
      "authorship_tag": "ABX9TyO+5sg9hWOAgcV8U/jEKy9F",
      "include_colab_link": true
    },
    "kernelspec": {
      "name": "python3",
      "display_name": "Python 3"
    }
  },
  "cells": [
    {
      "cell_type": "markdown",
      "metadata": {
        "id": "view-in-github",
        "colab_type": "text"
      },
      "source": [
        "<a href=\"https://colab.research.google.com/github/Weikang01/HackerRankChallenges/blob/master/organizing-containers-of-balls.ipynb\" target=\"_parent\"><img src=\"https://colab.research.google.com/assets/colab-badge.svg\" alt=\"Open In Colab\"/></a>"
      ]
    },
    {
      "cell_type": "markdown",
      "metadata": {
        "id": "OUZlx4JpU1fS",
        "colab_type": "text"
      },
      "source": [
        "https://www.hackerrank.com/challenges/organizing-containers-of-balls/problem"
      ]
    },
    {
      "cell_type": "code",
      "metadata": {
        "id": "aXYTOs2wUuvf",
        "colab_type": "code",
        "colab": {}
      },
      "source": [
        "#!/bin/python3\n",
        "\n",
        "import math\n",
        "import os\n",
        "import random\n",
        "import re\n",
        "import sys"
      ],
      "execution_count": null,
      "outputs": []
    },
    {
      "cell_type": "code",
      "metadata": {
        "id": "HSxVMn0aUp0j",
        "colab_type": "code",
        "colab": {}
      },
      "source": [
        "def organizingContainers(n, container):\n",
        "    a_list = [0] * n\n",
        "    b_list = [0] * n\n",
        "    for i in range(n):\n",
        "        for j in range(n):\n",
        "            a_list[i] += container[i][j]\n",
        "            b_list[j] += container[i][j]\n",
        "\n",
        "    result = 'Possible'\n",
        "    for i in range(n):\n",
        "        j = i\n",
        "        while j < n:\n",
        "            if a_list[i] == b_list[j]:\n",
        "                b_list[j], b_list[i] = b_list[i], b_list[j]\n",
        "                break\n",
        "            j += 1\n",
        "        print(j)\n",
        "        if j == n:\n",
        "            result = 'Impossible'\n",
        "            break\n",
        "    return result"
      ],
      "execution_count": 1,
      "outputs": []
    },
    {
      "cell_type": "code",
      "metadata": {
        "id": "pEeQszMsVCw7",
        "colab_type": "code",
        "colab": {
          "base_uri": "https://localhost:8080/",
          "height": 67
        },
        "outputId": "0e31d6d1-5348-46fe-bbe6-b2dce3691248"
      },
      "source": [
        "if __name__ == '__main__':\n",
        "    n = 3\n",
        "\n",
        "    container = [\n",
        "        [1, 3, 1],\n",
        "        [2, 1, 2],\n",
        "        [3, 3, 3],\n",
        "    ]\n",
        "\n",
        "    result = organizingContainers(n, container)\n",
        "\n",
        "    print(str(result) + '\\n')"
      ],
      "execution_count": 2,
      "outputs": [
        {
          "output_type": "stream",
          "text": [
            "3\n",
            "Impossible\n",
            "\n"
          ],
          "name": "stdout"
        }
      ]
    }
  ]
}