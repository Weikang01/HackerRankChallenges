{
  "nbformat": 4,
  "nbformat_minor": 0,
  "metadata": {
    "colab": {
      "name": "Untitled10.ipynb",
      "provenance": [],
      "authorship_tag": "ABX9TyOf23QMeCNtVM39b7uTjBhj",
      "include_colab_link": true
    },
    "kernelspec": {
      "name": "python3",
      "display_name": "Python 3"
    }
  },
  "cells": [
    {
      "cell_type": "markdown",
      "metadata": {
        "id": "view-in-github",
        "colab_type": "text"
      },
      "source": [
        "<a href=\"https://colab.research.google.com/github/Weikang01/HackerRankChallenges/blob/master/happy-ladybugs.ipynb\" target=\"_parent\"><img src=\"https://colab.research.google.com/assets/colab-badge.svg\" alt=\"Open In Colab\"/></a>"
      ]
    },
    {
      "cell_type": "markdown",
      "metadata": {
        "id": "OUZlx4JpU1fS",
        "colab_type": "text"
      },
      "source": [
        "https://www.hackerrank.com/challenges/happy-ladybugs/problem"
      ]
    },
    {
      "cell_type": "code",
      "metadata": {
        "id": "aXYTOs2wUuvf",
        "colab_type": "code",
        "colab": {}
      },
      "source": [
        "#!/bin/python3\n",
        "\n",
        "import math\n",
        "import os\n",
        "import random\n",
        "import re\n",
        "import sys"
      ],
      "execution_count": 4,
      "outputs": []
    },
    {
      "cell_type": "code",
      "metadata": {
        "id": "HSxVMn0aUp0j",
        "colab_type": "code",
        "colab": {}
      },
      "source": [
        "def happyLadybugs(b):\n",
        "    item_set = sorted(set(b))\n",
        "    has_slash = False\n",
        "    if item_set[-1] == '_':\n",
        "        item_set.pop()\n",
        "        has_slash = True\n",
        "    item_count = [b.count(item) for item in item_set]\n",
        "    if item_count.__contains__(1):\n",
        "        return 'NO'\n",
        "    if not has_slash:\n",
        "        cur_i = 0\n",
        "        len_b = len(b)\n",
        "        while cur_i < len_b - 1:\n",
        "            cur_len = 0\n",
        "            for j in range(cur_i + 1, len_b):\n",
        "                if b[j] != b[cur_i]:\n",
        "                    break\n",
        "                cur_len += 1\n",
        "            if cur_len == 0:\n",
        "                return 'NO'\n",
        "            cur_i += (1 + cur_len)\n",
        "    return 'YES'"
      ],
      "execution_count": 15,
      "outputs": []
    },
    {
      "cell_type": "code",
      "metadata": {
        "id": "pEeQszMsVCw7",
        "colab_type": "code",
        "colab": {
          "base_uri": "https://localhost:8080/",
          "height": 50
        },
        "outputId": "0b513d25-da86-435a-c357-aa53e5df827a"
      },
      "source": [
        "if __name__ == '__main__':\n",
        "    b = 'DD__FQ_QQF'\n",
        "    result = happyLadybugs(b)\n",
        "\n",
        "    print(result + '\\n')"
      ],
      "execution_count": 16,
      "outputs": [
        {
          "output_type": "stream",
          "text": [
            "YES\n",
            "\n"
          ],
          "name": "stdout"
        }
      ]
    }
  ]
}