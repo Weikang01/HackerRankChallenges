{
  "nbformat": 4,
  "nbformat_minor": 0,
  "metadata": {
    "colab": {
      "name": "Untitled10.ipynb",
      "provenance": [],
      "authorship_tag": "ABX9TyM0PIaE5v6UaZ4w/fUEjIkq",
      "include_colab_link": true
    },
    "kernelspec": {
      "name": "python3",
      "display_name": "Python 3"
    }
  },
  "cells": [
    {
      "cell_type": "markdown",
      "metadata": {
        "id": "view-in-github",
        "colab_type": "text"
      },
      "source": [
        "<a href=\"https://colab.research.google.com/github/Weikang01/HackerRankChallenges/blob/master/circular-array-rotation.ipynb\" target=\"_parent\"><img src=\"https://colab.research.google.com/assets/colab-badge.svg\" alt=\"Open In Colab\"/></a>"
      ]
    },
    {
      "cell_type": "markdown",
      "metadata": {
        "id": "OUZlx4JpU1fS",
        "colab_type": "text"
      },
      "source": [
        "Challenge: https://www.hackerrank.com/challenges/circular-array-rotation/problem"
      ]
    },
    {
      "cell_type": "code",
      "metadata": {
        "id": "aXYTOs2wUuvf",
        "colab_type": "code",
        "colab": {}
      },
      "source": [
        "#!/bin/python3\n",
        "\n",
        "import math\n",
        "import os\n",
        "import random\n",
        "import re\n",
        "import sys"
      ],
      "execution_count": 13,
      "outputs": []
    },
    {
      "cell_type": "code",
      "metadata": {
        "id": "HSxVMn0aUp0j",
        "colab_type": "code",
        "colab": {}
      },
      "source": [
        "def circularArrayRotation(a, k, queries):\n",
        "    len_a = len(a)\n",
        "    len_q = len(queries)\n",
        "    result = [0] * len_q\n",
        "\n",
        "    cut = len_a - k % len_a\n",
        "\n",
        "    a_head = a[cut:]\n",
        "    a_head.extend(a[:cut])\n",
        "\n",
        "    for i in range(len_q):\n",
        "        result[i] = a_head[queries[i]]\n",
        "    return result"
      ],
      "execution_count": 18,
      "outputs": []
    },
    {
      "cell_type": "code",
      "metadata": {
        "id": "pEeQszMsVCw7",
        "colab_type": "code",
        "colab": {
          "base_uri": "https://localhost:8080/",
          "height": 67
        },
        "outputId": "1f4f3652-2353-4d76-cdb3-b6a59d9b737b"
      },
      "source": [
        "if __name__ == '__main__':\n",
        "    k = 3\n",
        "\n",
        "    a = [1, 2, 3, 4, 5]\n",
        "\n",
        "    queries = [0, 1, 2]\n",
        "\n",
        "    result = circularArrayRotation(a, k, queries)\n",
        "\n",
        "    print('\\n'.join(map(str, result)))"
      ],
      "execution_count": 19,
      "outputs": [
        {
          "output_type": "stream",
          "text": [
            "3\n",
            "4\n",
            "5\n"
          ],
          "name": "stdout"
        }
      ]
    }
  ]
}