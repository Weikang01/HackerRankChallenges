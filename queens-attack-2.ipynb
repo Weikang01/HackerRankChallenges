{
  "nbformat": 4,
  "nbformat_minor": 0,
  "metadata": {
    "colab": {
      "name": "Untitled10.ipynb",
      "provenance": [],
      "authorship_tag": "ABX9TyMau+CiZWF8JQmHSecc/4vZ",
      "include_colab_link": true
    },
    "kernelspec": {
      "name": "python3",
      "display_name": "Python 3"
    }
  },
  "cells": [
    {
      "cell_type": "markdown",
      "metadata": {
        "id": "view-in-github",
        "colab_type": "text"
      },
      "source": [
        "<a href=\"https://colab.research.google.com/github/Weikang01/HackerRankChallenges/blob/master/queens-attack-2.ipynb\" target=\"_parent\"><img src=\"https://colab.research.google.com/assets/colab-badge.svg\" alt=\"Open In Colab\"/></a>"
      ]
    },
    {
      "cell_type": "markdown",
      "metadata": {
        "id": "OUZlx4JpU1fS",
        "colab_type": "text"
      },
      "source": [
        "https://www.hackerrank.com/challenges/queens-attack-2/problem"
      ]
    },
    {
      "cell_type": "code",
      "metadata": {
        "id": "aXYTOs2wUuvf",
        "colab_type": "code",
        "colab": {}
      },
      "source": [
        "#!/bin/python3\n",
        "\n",
        "import math\n",
        "import os\n",
        "import random\n",
        "import re\n",
        "import sys"
      ],
      "execution_count": null,
      "outputs": []
    },
    {
      "cell_type": "code",
      "metadata": {
        "id": "HSxVMn0aUp0j",
        "colab_type": "code",
        "colab": {}
      },
      "source": [
        "def queensAttack(n, k, r_q, c_q, obstacles):\n",
        "    row_barrier_left = c_q - 1\n",
        "    row_barrier_right = n - c_q\n",
        "    col_barrier_top = n - r_q\n",
        "    col_barrier_bottom = r_q - 1\n",
        "\n",
        "    top_right = min(col_barrier_top, row_barrier_right)\n",
        "    top_left = min(col_barrier_top, row_barrier_left)\n",
        "    bottom_right = min(col_barrier_bottom, row_barrier_right)\n",
        "    bottom_left = min(col_barrier_bottom, row_barrier_left)\n",
        "\n",
        "    for item in obstacles:\n",
        "        if item[0] == r_q:\n",
        "            if item[1] < c_q:\n",
        "                row_barrier_left = min(c_q - item[1] - 1, row_barrier_left)\n",
        "                continue\n",
        "            else:\n",
        "                row_barrier_right = min(item[1] - c_q - 1, row_barrier_right)\n",
        "                continue\n",
        "        if item[1] == c_q:\n",
        "            if item[0] < r_q:\n",
        "                col_barrier_bottom = min(r_q - item[0] - 1, col_barrier_bottom)\n",
        "                continue\n",
        "            else:\n",
        "                col_barrier_top = min(item[0] - r_q - 1, col_barrier_top)\n",
        "                continue\n",
        "        if item[0] > r_q:\n",
        "            if item[1] > c_q:\n",
        "                if item[1] - c_q == item[0] - r_q:\n",
        "                    top_right = min(item[1] - c_q - 1, top_right)\n",
        "                    continue\n",
        "            else:\n",
        "                if c_q - item[1] == item[0] - r_q:\n",
        "                    top_left = min(c_q - item[1] - 1, top_left)\n",
        "                    continue\n",
        "        else:\n",
        "            if item[1] > c_q:\n",
        "                if item[1] - c_q == r_q - item[0]:\n",
        "                    bottom_right = min(item[1] - c_q - 1, bottom_right)\n",
        "                    continue\n",
        "            else:\n",
        "                if c_q - item[1] == r_q - item[0]:\n",
        "                    bottom_left = min(c_q - item[1] - 1, bottom_left)\n",
        "                    continue\n",
        "\n",
        "    return row_barrier_left + row_barrier_right + col_barrier_top + col_barrier_bottom + top_right + top_left + bottom_right + bottom_left"
      ],
      "execution_count": 3,
      "outputs": []
    },
    {
      "cell_type": "code",
      "metadata": {
        "id": "pEeQszMsVCw7",
        "colab_type": "code",
        "colab": {
          "base_uri": "https://localhost:8080/",
          "height": 50
        },
        "outputId": "b7d9b4ac-68e2-420a-cfb7-4e80a52c1bd9"
      },
      "source": [
        "if __name__ == '__main__':\n",
        "    n = 5\n",
        "\n",
        "    k = 3\n",
        "\n",
        "    r_q = 4\n",
        "\n",
        "    c_q = 3\n",
        "\n",
        "    obstacles = [(3, 5), (4, 2), (2, 3)]\n",
        "\n",
        "    result = queensAttack(n, k, r_q, c_q, obstacles)\n",
        "\n",
        "    print(str(result) + '\\n')"
      ],
      "execution_count": 4,
      "outputs": [
        {
          "output_type": "stream",
          "text": [
            "10\n",
            "\n"
          ],
          "name": "stdout"
        }
      ]
    }
  ]
}