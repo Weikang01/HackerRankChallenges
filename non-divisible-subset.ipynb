{
  "nbformat": 4,
  "nbformat_minor": 0,
  "metadata": {
    "colab": {
      "name": "Untitled10.ipynb",
      "provenance": [],
      "authorship_tag": "ABX9TyPyttXVnwiC+kGc/+aUl3n3",
      "include_colab_link": true
    },
    "kernelspec": {
      "name": "python3",
      "display_name": "Python 3"
    }
  },
  "cells": [
    {
      "cell_type": "markdown",
      "metadata": {
        "id": "view-in-github",
        "colab_type": "text"
      },
      "source": [
        "<a href=\"https://colab.research.google.com/github/Weikang01/HackerRankChallenges/blob/master/non-divisible-subset.ipynb\" target=\"_parent\"><img src=\"https://colab.research.google.com/assets/colab-badge.svg\" alt=\"Open In Colab\"/></a>"
      ]
    },
    {
      "cell_type": "markdown",
      "metadata": {
        "id": "OUZlx4JpU1fS",
        "colab_type": "text"
      },
      "source": [
        "https://www.hackerrank.com/challenges/non-divisible-subset/problem"
      ]
    },
    {
      "cell_type": "code",
      "metadata": {
        "id": "aXYTOs2wUuvf",
        "colab_type": "code",
        "colab": {}
      },
      "source": [
        "#!/bin/python3\n",
        "\n",
        "import math\n",
        "import os\n",
        "import random\n",
        "import re\n",
        "import sys"
      ],
      "execution_count": 13,
      "outputs": []
    },
    {
      "cell_type": "code",
      "metadata": {
        "id": "HSxVMn0aUp0j",
        "colab_type": "code",
        "colab": {}
      },
      "source": [
        "def nonDivisibleSubset(k, s):\n",
        "    s = [item % k for item in s]\n",
        "    s_set = sorted(set(s))\n",
        "\n",
        "    has_zero = False\n",
        "    if 0 in s_set:\n",
        "        has_zero = True\n",
        "        s_set.pop(0)\n",
        "\n",
        "    half_value = k // 2\n",
        "    has_half_value = False\n",
        "    if k == half_value * 2 and half_value:\n",
        "        has_half_value = True\n",
        "        s_set.pop(s_set.index(half_value))\n",
        "\n",
        "    s_set_len = len(s_set)\n",
        "    s_count = [s.count(item) for item in s_set]\n",
        "\n",
        "    value = 0\n",
        "\n",
        "    contract_done = []\n",
        "\n",
        "    for i in range(s_set_len - 1):\n",
        "        if i in contract_done:\n",
        "            continue\n",
        "        for j in range(s_set_len - 1, i, -1):\n",
        "\n",
        "            if s_set[i] + s_set[j] == k:\n",
        "                value += max(s_count[i], s_count[j])\n",
        "                contract_done.append(i)\n",
        "                contract_done.append(j)\n",
        "                break\n",
        "            elif s_set[i] + s_set[j] < k:\n",
        "                break\n",
        "\n",
        "    contract_done.sort(reverse=True)\n",
        "    for i in contract_done:\n",
        "        s_set.pop(i)\n",
        "        s_count.pop(i)\n",
        "\n",
        "    return value + sum(s_count) + has_half_value + has_zero"
      ],
      "execution_count": 34,
      "outputs": []
    },
    {
      "cell_type": "code",
      "metadata": {
        "id": "pEeQszMsVCw7",
        "colab_type": "code",
        "colab": {
          "base_uri": "https://localhost:8080/",
          "height": 50
        },
        "outputId": "34dab777-a9fd-473d-c624-f552a94bafb0"
      },
      "source": [
        "if __name__ == '__main__':\n",
        "    k = 8\n",
        "    s = [1, 2, 2, 2, 4, 4, 4, 8, 7]\n",
        "\n",
        "    result = nonDivisibleSubset(k, s)\n",
        "\n",
        "    print(str(result) + '\\n')"
      ],
      "execution_count": 35,
      "outputs": [
        {
          "output_type": "stream",
          "text": [
            "6\n",
            "\n"
          ],
          "name": "stdout"
        }
      ]
    }
  ]
}